{
 "cells": [
  {
   "cell_type": "code",
   "execution_count": 1,
   "metadata": {},
   "outputs": [],
   "source": [
    "import numpy as np\n",
    "import timeit\n",
    "import traceback\n",
    "import contextlib\n",
    "\n",
    "import tensorflow as tf"
   ]
  },
  {
   "cell_type": "code",
   "execution_count": 2,
   "metadata": {},
   "outputs": [],
   "source": [
    "@contextlib.contextmanager\n",
    "def options(options):\n",
    "    old_opts = tf.config.optimizer.get_experimental_options()\n",
    "    tf.config.optimizer.set_experimental_options(options)\n",
    "    try:\n",
    "        yield\n",
    "    finally:\n",
    "        tf.config.optimizer.set_experimental_options(old_opts)"
   ]
  },
  {
   "cell_type": "code",
   "execution_count": null,
   "metadata": {},
   "outputs": [],
   "source": []
  },
  {
   "cell_type": "code",
   "execution_count": 3,
   "metadata": {},
   "outputs": [],
   "source": [
    "def example_function():\n",
    "  @tf.function\n",
    "  def simple_function(input):\n",
    "    print('Tracing...')\n",
    "    a = tf.constant(np.random.randn(2000, 2000), dtype = tf.float32)\n",
    "    c = a\n",
    "    for i in range(50):\n",
    "      c = c@a\n",
    "    return tf.reduce_mean(c+input)\n",
    "\n",
    "  return simple_function"
   ]
  },
  {
   "cell_type": "code",
   "execution_count": 4,
   "metadata": {},
   "outputs": [
    {
     "name": "stdout",
     "output_type": "stream",
     "text": [
      "{'constant_folding': False, 'disable_model_pruning': False, 'disable_meta_optimizer': False}\n",
      "Tracing...\n"
     ]
    },
    {
     "name": "stderr",
     "output_type": "stream",
     "text": [
      "2023-07-17 17:11:47.586444: I metal_plugin/src/device/metal_device.cc:1154] Metal device set to: Apple M1 Max\n",
      "2023-07-17 17:11:47.586463: I metal_plugin/src/device/metal_device.cc:296] systemMemory: 32.00 GB\n",
      "2023-07-17 17:11:47.586467: I metal_plugin/src/device/metal_device.cc:313] maxCacheSize: 10.67 GB\n",
      "2023-07-17 17:11:47.586523: I tensorflow/core/common_runtime/pluggable_device/pluggable_device_factory.cc:303] Could not identify NUMA node of platform GPU ID 0, defaulting to 0. Your kernel may not have been built with NUMA support.\n",
      "2023-07-17 17:11:47.586557: I tensorflow/core/common_runtime/pluggable_device/pluggable_device_factory.cc:269] Created TensorFlow device (/job:localhost/replica:0/task:0/device:GPU:0 with 0 MB memory) -> physical PluggableDevice (device: 0, name: METAL, pci bus id: <undefined>)\n",
      "2023-07-17 17:11:47.727298: I tensorflow/core/grappler/optimizers/custom_graph_optimizer_registry.cc:114] Plugin optimizer for device_type GPU is enabled.\n"
     ]
    },
    {
     "name": "stdout",
     "output_type": "stream",
     "text": [
      "Normal Execution: 0.003241084050387144 s\n"
     ]
    }
   ],
   "source": [
    "with options({'constant_folding': False}):\n",
    "  print(tf.config.optimizer.get_experimental_options())\n",
    "  simple_function = example_function()\n",
    "  x = tf.constant(5.4)\n",
    "  simple_function(x)\n",
    "  print(\"Normal Execution:\", timeit.timeit(lambda: simple_function(x), number = 1), \"s\")"
   ]
  },
  {
   "cell_type": "code",
   "execution_count": 5,
   "metadata": {},
   "outputs": [
    {
     "name": "stdout",
     "output_type": "stream",
     "text": [
      "{'constant_folding': True, 'disable_model_pruning': False, 'disable_meta_optimizer': False}\n",
      "Tracing...\n"
     ]
    },
    {
     "name": "stderr",
     "output_type": "stream",
     "text": [
      "2023-07-17 17:12:24.063083: I tensorflow/core/grappler/optimizers/custom_graph_optimizer_registry.cc:114] Plugin optimizer for device_type GPU is enabled.\n"
     ]
    },
    {
     "name": "stdout",
     "output_type": "stream",
     "text": [
      "Constant Folded Execution: 0.00044241698924452066 s\n"
     ]
    }
   ],
   "source": [
    "with options({'constant_folding': True}):\n",
    "  print(tf.config.optimizer.get_experimental_options())\n",
    "  simple_function = example_function()\n",
    "  x = tf.constant(5.4)\n",
    "  simple_function(x)\n",
    "  print(\"Constant Folded Execution:\", timeit.timeit(lambda: simple_function(x), number = 1), \"s\")"
   ]
  }
 ],
 "metadata": {
  "kernelspec": {
   "display_name": "Python 3",
   "language": "python",
   "name": "python3"
  },
  "language_info": {
   "codemirror_mode": {
    "name": "ipython",
    "version": 3
   },
   "file_extension": ".py",
   "mimetype": "text/x-python",
   "name": "python",
   "nbconvert_exporter": "python",
   "pygments_lexer": "ipython3",
   "version": "3.10.12"
  },
  "orig_nbformat": 4
 },
 "nbformat": 4,
 "nbformat_minor": 2
}
